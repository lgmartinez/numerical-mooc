{
 "cells": [
  {
   "cell_type": "markdown",
   "metadata": {},
   "source": [
    "## Import Libraries"
   ]
  },
  {
   "cell_type": "code",
   "execution_count": 1,
   "metadata": {
    "collapsed": true
   },
   "outputs": [],
   "source": [
    "import numpy\n",
    "import math\n",
    "from matplotlib import pyplot\n",
    "%matplotlib inline\n",
    "from matplotlib import rcParams\n",
    "rcParams['font.family'] = 'serif'\n",
    "rcParams['font.size'] = 16"
   ]
  },
  {
   "cell_type": "markdown",
   "metadata": {},
   "source": [
    "## Parameters"
   ]
  },
  {
   "cell_type": "code",
   "execution_count": 2,
   "metadata": {
    "collapsed": true
   },
   "outputs": [],
   "source": [
    "#Parameters\n",
    "\n",
    "#atmosphere\n",
    "g = 9.81 #gravity\n",
    "density = 1.091 # avg density of air\n",
    "\n",
    "#rocket\n",
    "ms = 50 #rocket weight (kg)\n",
    "R = 0.5 #max cross-sectional radius of rocket in meters\n",
    "A = math.pi*(R)**2 # max xA of rocket (m^2)\n",
    "C_D = 0.15 #drag coeff\n",
    "v_e = 325 #exhaust velocity (m/s)\n",
    "m_pi = 100 #initial mass of proppelant (kg)\n",
    "\n",
    "#Flight Parameters\n",
    "T = 38 #terminal time in seconds\n",
    "\n",
    "Q1 = 20 #rate of propellant consumption when 0.ge.t.lt.5\n",
    "Q2 = 0 #rate of propellant consumption when 5.gt.t.le.10\n",
    "\n",
    "#Initial conditions\n",
    "v_0 = 0.0\n",
    "h_0 = 0.0"
   ]
  },
  {
   "cell_type": "code",
   "execution_count": 3,
   "metadata": {
    "collapsed": true
   },
   "outputs": [],
   "source": [
    "#Grid\n",
    "\n",
    "dt = 0.1 #time step\n",
    "N = int(T/dt) + 1   # number of time-steps\n",
    "t = numpy.linspace(0, T, N) # time discretization"
   ]
  },
  {
   "cell_type": "markdown",
   "metadata": {},
   "source": [
    "## Solve with EULER'S METHOD"
   ]
  },
  {
   "cell_type": "code",
   "execution_count": 4,
   "metadata": {
    "collapsed": false
   },
   "outputs": [],
   "source": [
    "def f(u, Q, t_c):\n",
    "    \n",
    "    \"\"\"\n",
    "    Returns the right-hand side \n",
    "    Use when t from zero to less than or equal to 5 seconds\n",
    "    \n",
    "    Parameters:\n",
    "    u[0] = h\n",
    "    u[1] = v\n",
    "    v = velocity of rocket\n",
    "    Q = propellant burn rate\n",
    "    t_c = current time\n",
    "    \"\"\"\n",
    "    \n",
    "    #h = u[0]\n",
    "    v = u[1]\n",
    "    mp = m_pi - Q*t_c\n",
    "    \n",
    "    return numpy.array([v, \n",
    "                        (v_e*Q - (ms+mp)*g - 0.5*density*v*abs(v)*A*C_D)/(ms+mp)])"
   ]
  },
  {
   "cell_type": "code",
   "execution_count": 5,
   "metadata": {
    "collapsed": true
   },
   "outputs": [],
   "source": [
    "def f2(u, Q):\n",
    "    \n",
    "    \"\"\"\n",
    "    Returns the right-hand side \n",
    "    \n",
    "    Parameters:\n",
    "    v = velocity of rocket\n",
    "    Q = propellant burn rate\n",
    "    t_c = current time\n",
    "    \"\"\"\n",
    "    \n",
    "    #h = u[0]\n",
    "    v = u[1]\n",
    "    mp = 0  #mass of remaining propellant\n",
    "    \n",
    "    return numpy.array([v, \n",
    "                        (v_e*Q - (ms+mp)*g - 0.5*density*v*abs(v)*A*C_D)/(ms+mp)])"
   ]
  },
  {
   "cell_type": "code",
   "execution_count": 6,
   "metadata": {
    "collapsed": true
   },
   "outputs": [],
   "source": [
    "def euler_step(u, f, dt):\n",
    "    \"\"\"Returns the solution at the next time-step using Euler's method.\n",
    "    \n",
    "    Parameters\n",
    "    ----------\n",
    "    u : array of float\n",
    "        solution at the previous time-step.\n",
    "    f : function\n",
    "        function to compute the right hand-side of the system of equation.\n",
    "    dt : float\n",
    "        time-increment.\n",
    "    \n",
    "    Returns\n",
    "    -------\n",
    "    u_n_plus_1 : array of float\n",
    "        approximate solution at the next time step.\n",
    "    \"\"\"\n",
    "    \n",
    "    return u + dt * f"
   ]
  },
  {
   "cell_type": "code",
   "execution_count": 7,
   "metadata": {
    "collapsed": false
   },
   "outputs": [],
   "source": [
    "#Initialize Solution\n",
    "\n",
    "u = numpy.empty((N,2))\n",
    "u[0] = numpy.array([h_0, v_0])"
   ]
  },
  {
   "cell_type": "code",
   "execution_count": 8,
   "metadata": {
    "collapsed": false
   },
   "outputs": [],
   "source": [
    "# Time Loop\n",
    "\n",
    "for i in range(N-1):\n",
    "    \n",
    "\n",
    "    if (t[i] < 5):\n",
    "        F = f(u[i], Q1, t[i])\n",
    "        #print(F)\n",
    "        u[i+1] = euler_step(u[i], F, dt)\n",
    "        \n",
    "    if (t[i] >= 5):\n",
    "        F = f2(u[i], Q2)\n",
    "        u[i+1] = euler_step(u[i], F, dt)\n",
    "        "
   ]
  },
  {
   "cell_type": "code",
   "execution_count": 9,
   "metadata": {
    "collapsed": false
   },
   "outputs": [],
   "source": [
    "#print(u)"
   ]
  },
  {
   "cell_type": "code",
   "execution_count": 10,
   "metadata": {
    "collapsed": true
   },
   "outputs": [],
   "source": [
    "h = u[:,0]"
   ]
  },
  {
   "cell_type": "code",
   "execution_count": 11,
   "metadata": {
    "collapsed": false
   },
   "outputs": [
    {
     "data": {
      "image/png": "[encoded data removed]",
      "text/plain": [
       "<matplotlib.figure.Figure at 0x108acaeb8>"
      ]
     },
     "metadata": {},
     "output_type": "display_data"
    }
   ],
   "source": [
    "# visualization of the path \n",
    "pyplot.figure(figsize=(8,6))\n",
    "pyplot.grid(True)\n",
    "pyplot.xlabel(r't', fontsize=18)\n",
    "pyplot.ylabel(r'h', fontsize=18)\n",
    "pyplot.title('Rocket trajectory', fontsize=18)\n",
    "pyplot.plot(t,h, 'k-', lw=2);"
   ]
  },
  {
   "cell_type": "code",
   "execution_count": 12,
   "metadata": {
    "collapsed": true
   },
   "outputs": [],
   "source": [
    "v = u[:,1]"
   ]
  },
  {
   "cell_type": "code",
   "execution_count": 13,
   "metadata": {
    "collapsed": false
   },
   "outputs": [
    {
     "data": {
      "image/png": "[encoded data removed]",
      "text/plain": [
       "<matplotlib.figure.Figure at 0x108afaeb8>"
      ]
     },
     "metadata": {},
     "output_type": "display_data"
    }
   ],
   "source": [
    "# visualization of the speed\n",
    "pyplot.figure(figsize=(8,6))\n",
    "pyplot.grid(True)\n",
    "pyplot.xlabel(r't', fontsize=18)\n",
    "pyplot.ylabel(r'v', fontsize=18)\n",
    "pyplot.title('Rocket Velocity', fontsize=18)\n",
    "pyplot.plot(t,v, 'k-', lw=2);"
   ]
  },
  {
   "cell_type": "markdown",
   "metadata": {},
   "source": [
    "### Maximum Velocity, Corresponding time and altitude"
   ]
  },
  {
   "cell_type": "code",
   "execution_count": 14,
   "metadata": {
    "collapsed": false
   },
   "outputs": [
    {
     "name": "stdout",
     "output_type": "stream",
     "text": [
      "232.106133413\n"
     ]
    }
   ],
   "source": [
    "print(max(v))"
   ]
  },
  {
   "cell_type": "code",
   "execution_count": 15,
   "metadata": {
    "collapsed": false
   },
   "outputs": [
    {
     "data": {
      "text/plain": [
       "(array([50]),)"
      ]
     },
     "execution_count": 15,
     "metadata": {},
     "output_type": "execute_result"
    }
   ],
   "source": [
    "numpy.where(v==max(v))"
   ]
  },
  {
   "cell_type": "code",
   "execution_count": 16,
   "metadata": {
    "collapsed": false
   },
   "outputs": [
    {
     "name": "stdout",
     "output_type": "stream",
     "text": [
      "t =  5.0 , h =  523.52 , v =  232.11\n"
     ]
    }
   ],
   "source": [
    "print('t = ',numpy.round(t[50],2),', h = ' ,numpy.round(h[50],2),', v = ', numpy.round(v[50],2))"
   ]
  },
  {
   "cell_type": "markdown",
   "metadata": {},
   "source": [
    "### Maxiumum Height"
   ]
  },
  {
   "cell_type": "code",
   "execution_count": 17,
   "metadata": {
    "collapsed": false
   },
   "outputs": [
    {
     "name": "stdout",
     "output_type": "stream",
     "text": [
      "h =  1334.18\n"
     ]
    }
   ],
   "source": [
    "print('h = ', numpy.round(max(h),2))"
   ]
  },
  {
   "cell_type": "code",
   "execution_count": 18,
   "metadata": {
    "collapsed": false
   },
   "outputs": [
    {
     "data": {
      "text/plain": [
       "(array([157]),)"
      ]
     },
     "execution_count": 18,
     "metadata": {},
     "output_type": "execute_result"
    }
   ],
   "source": [
    "numpy.where(h==max(h))"
   ]
  },
  {
   "cell_type": "code",
   "execution_count": 19,
   "metadata": {
    "collapsed": false
   },
   "outputs": [
    {
     "name": "stdout",
     "output_type": "stream",
     "text": [
      "t =  15.7 , h =  1334.18 , v =  -0.22\n"
     ]
    }
   ],
   "source": [
    "print('t = ',numpy.round(t[157],2),', h = ' ,numpy.round(h[157],2),', v = ', numpy.round(v[157],2))"
   ]
  },
  {
   "cell_type": "markdown",
   "metadata": {},
   "source": [
    "### Impact"
   ]
  },
  {
   "cell_type": "code",
   "execution_count": 20,
   "metadata": {
    "collapsed": true
   },
   "outputs": [],
   "source": [
    "TOL = 0.001"
   ]
  },
  {
   "cell_type": "code",
   "execution_count": 21,
   "metadata": {
    "collapsed": false
   },
   "outputs": [
    {
     "data": {
      "text/plain": [
       "(array([371, 372, 373, 374, 375, 376, 377, 378, 379, 380]),)"
      ]
     },
     "execution_count": 21,
     "metadata": {},
     "output_type": "execute_result"
    }
   ],
   "source": [
    "numpy.where(h<0)"
   ]
  },
  {
   "cell_type": "code",
   "execution_count": 22,
   "metadata": {
    "collapsed": false
   },
   "outputs": [
    {
     "name": "stdout",
     "output_type": "stream",
     "text": [
      "6.13901004188 -2.45858130616\n"
     ]
    }
   ],
   "source": [
    "print(h[370], h[371])"
   ]
  },
  {
   "cell_type": "code",
   "execution_count": 23,
   "metadata": {
    "collapsed": false
   },
   "outputs": [
    {
     "name": "stdout",
     "output_type": "stream",
     "text": [
      "37.0 37.1\n"
     ]
    }
   ],
   "source": [
    "print(t[370], t[371])"
   ]
  },
  {
   "cell_type": "code",
   "execution_count": 24,
   "metadata": {
    "collapsed": false
   },
   "outputs": [
    {
     "name": "stdout",
     "output_type": "stream",
     "text": [
      "-85.9759134804 -85.9759134804\n"
     ]
    }
   ],
   "source": [
    "print(v[370], v[370])"
   ]
  }
 ],
 "metadata": {
  "kernelspec": {
   "display_name": "Python 3",
   "language": "python",
   "name": "python3"
  },
  "language_info": {
   "codemirror_mode": {
    "name": "ipython",
    "version": 3
   },
   "file_extension": ".py",
   "mimetype": "text/x-python",
   "name": "python",
   "nbconvert_exporter": "python",
   "pygments_lexer": "ipython3",
   "version": "3.4.3"
  }
 },
 "nbformat": 4,
 "nbformat_minor": 0
}
