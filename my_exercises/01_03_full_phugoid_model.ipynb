{
 "cells": [
  {
   "cell_type": "code",
   "execution_count": 32,
   "metadata": {
    "collapsed": true
   },
   "outputs": [],
   "source": [
    "from math import sin, cos, log, ceil\n",
    "import numpy\n",
    "from matplotlib import pyplot\n",
    "%matplotlib inline\n",
    "from matplotlib import rcParams\n",
    "rcParams['font.family'] = 'serif'\n",
    "rcParams['font.size'] = 16"
   ]
  },
  {
   "cell_type": "code",
   "execution_count": 2,
   "metadata": {
    "collapsed": true
   },
   "outputs": [],
   "source": [
    "# model parameters:\n",
    "g = 9.8      # gravity in m s^{-2}\n",
    "v_t = 30.0   # trim velocity in m s^{-1}   \n",
    "C_D = 1/40  # drag coefficient --- or D/L if C_L=1\n",
    "C_L = 1   # for convenience, use C_L = 1\n",
    "\n",
    "### set initial conditions ###\n",
    "x0 = 0     # horizotal position is arbitrary\n",
    "y0 = 1000  # initial altitude (meters)\n",
    "theta0= 0 # initial angle of trajectory\n",
    "v0 = v_t     # start at the trim velocity (or add a delta)"
   ]
  },
  {
   "cell_type": "code",
   "execution_count": 3,
   "metadata": {
    "collapsed": true
   },
   "outputs": [],
   "source": [
    "def f(u):\n",
    "    \"\"\"Returns the right-hand side of the phugoid system of equations.\n",
    "    \n",
    "    Parameters\n",
    "    ----------\n",
    "    u : array of float\n",
    "        array containing the solution at time n.\n",
    "        \n",
    "    Returns\n",
    "    -------\n",
    "    dudt or f(u) : array of float\n",
    "        array containing the RHS given u.\n",
    "    \"\"\"\n",
    "    \n",
    "    v = u[0]\n",
    "    theta = u[1]\n",
    "    x = u[2]\n",
    "    y = u[3]\n",
    "    return numpy.array([-g*sin(theta) - C_D/C_L*g/v_t**2*v**2,\n",
    "                      -g*cos(theta)/v + g/v_t**2*v,\n",
    "                      v*cos(theta),\n",
    "                      v*sin(theta)])"
   ]
  },
  {
   "cell_type": "code",
   "execution_count": 4,
   "metadata": {
    "collapsed": true
   },
   "outputs": [],
   "source": [
    "def euler_step(u, f, dt):\n",
    "    \"\"\"Returns the solution at the next time-step using Euler's method.\n",
    "    \n",
    "    Parameters\n",
    "    ----------\n",
    "    u : array of float\n",
    "        solution at the previous time-step.\n",
    "    f : function\n",
    "        function to compute the right hand-side of the system of equation.\n",
    "    dt : float\n",
    "        time-increment.\n",
    "    \n",
    "    Returns\n",
    "    -------\n",
    "    u_n_plus_1 : array of float\n",
    "        approximate solution at the next time step.\n",
    "    \"\"\"\n",
    "    \n",
    "    return u + dt * f(u)"
   ]
  },
  {
   "cell_type": "code",
   "execution_count": 5,
   "metadata": {
    "collapsed": true
   },
   "outputs": [],
   "source": [
    "T = 100                          # final time\n",
    "dt = 0.1                           # time increment\n",
    "N = int(T/dt) + 1                  # number of time-steps\n",
    "t = numpy.linspace(0, T, N)      # time discretization\n"
   ]
  },
  {
   "cell_type": "code",
   "execution_count": 6,
   "metadata": {
    "collapsed": false
   },
   "outputs": [
    {
     "name": "stdout",
     "output_type": "stream",
     "text": [
      "1001\n"
     ]
    }
   ],
   "source": [
    "print(N)"
   ]
  },
  {
   "cell_type": "code",
   "execution_count": 7,
   "metadata": {
    "collapsed": true
   },
   "outputs": [],
   "source": [
    "# initialize the array containing the solution for each time-step\n",
    "u = numpy.empty((N, 4))\n",
    "u[0] = numpy.array([v0, theta0, x0, y0])# fill 1st element with initial values\n",
    "\n",
    "# time loop - Euler method\n",
    "for n in range(N-1):  #this range goes from 0 to 999 \n",
    "    \n",
    "    u[n+1] = euler_step(u[n], f, dt)"
   ]
  },
  {
   "cell_type": "code",
   "execution_count": 8,
   "metadata": {
    "collapsed": false
   },
   "outputs": [
    {
     "data": {
      "text/plain": [
       "(1001, 4)"
      ]
     },
     "execution_count": 8,
     "metadata": {},
     "output_type": "execute_result"
    }
   ],
   "source": [
    "numpy.shape(u)"
   ]
  },
  {
   "cell_type": "code",
   "execution_count": 9,
   "metadata": {
    "collapsed": false
   },
   "outputs": [
    {
     "name": "stdout",
     "output_type": "stream",
     "text": [
      "[  2.99755000e+01  -5.55111512e-18   3.00000000e+00   1.00000000e+03]\n"
     ]
    }
   ],
   "source": [
    "print(u[1,:])"
   ]
  },
  {
   "cell_type": "markdown",
   "metadata": {},
   "source": [
    "Plot x,y positions of glider"
   ]
  },
  {
   "cell_type": "code",
   "execution_count": 10,
   "metadata": {
    "collapsed": true
   },
   "outputs": [],
   "source": [
    "x = u[:,2]\n",
    "y = u[:,3]"
   ]
  },
  {
   "cell_type": "code",
   "execution_count": 11,
   "metadata": {
    "collapsed": false
   },
   "outputs": [
    {
     "data": {
      "image/png": "[encoded data removed]",
      "text/plain": [
       "<matplotlib.figure.Figure at 0x1065068d0>"
      ]
     },
     "metadata": {},
     "output_type": "display_data"
    }
   ],
   "source": [
    "# visualization of the path\n",
    "pyplot.figure(figsize=(8,6))\n",
    "pyplot.grid(True)\n",
    "pyplot.xlabel(r'x', fontsize=18)\n",
    "pyplot.ylabel(r'y', fontsize=18)\n",
    "pyplot.title('Glider trajectory, flight time = %.2f' % T, fontsize=18)\n",
    "pyplot.plot(x,y, 'k-', lw=2);"
   ]
  },
  {
   "cell_type": "markdown",
   "metadata": {
    "collapsed": true
   },
   "source": [
    "Grid Convergence"
   ]
  },
  {
   "cell_type": "code",
   "execution_count": 12,
   "metadata": {
    "collapsed": false
   },
   "outputs": [
    {
     "name": "stdout",
     "output_type": "stream",
     "text": [
      "1001 1001\n",
      "2001 2001\n",
      "10001 10001\n",
      "20001 20001\n",
      "100001 100001\n"
     ]
    }
   ],
   "source": [
    "dt_values = numpy.array([0.1, 0.05, 0.01, 0.005, 0.001])\n",
    "\n",
    "u_values = numpy.empty_like(dt_values, dtype=numpy.ndarray)\n",
    "\n",
    "for i, dt in enumerate(dt_values):\n",
    "    \n",
    "    N = int(T/dt) + 1    # number of time-steps\n",
    "    #print(N)\n",
    "    \n",
    "    ### discretize the time t ###\n",
    "    t = numpy.linspace(0.0, T, N)\n",
    "    print(N,len(t))\n",
    "    \n",
    "    # initialize the array containing the solution for each time-step\n",
    "    u = numpy.empty((N, 4))\n",
    "    #print(numpy.shape(N))\n",
    "    u[0] = numpy.array([v0, theta0, x0, y0])\n",
    "\n",
    "    # time loop\n",
    "    for n in range(N-1):\n",
    "       \n",
    "        u[n+1] = euler_step(u[n], f, dt)   ### call euler_step() ###\n",
    "    \n",
    "    # store the value of u related to one grid\n",
    "    u_values[i] = u"
   ]
  },
  {
   "cell_type": "code",
   "execution_count": 13,
   "metadata": {
    "collapsed": false
   },
   "outputs": [
    {
     "data": {
      "text/plain": [
       "(5,)"
      ]
     },
     "execution_count": 13,
     "metadata": {},
     "output_type": "execute_result"
    }
   ],
   "source": [
    "numpy.shape(u_values[:])"
   ]
  },
  {
   "cell_type": "code",
   "execution_count": 14,
   "metadata": {
    "collapsed": false
   },
   "outputs": [
    {
     "name": "stdout",
     "output_type": "stream",
     "text": [
      "100001\n"
     ]
    }
   ],
   "source": [
    "print(N)"
   ]
  },
  {
   "cell_type": "code",
   "execution_count": 15,
   "metadata": {
    "collapsed": false
   },
   "outputs": [],
   "source": [
    "def get_diffgrid_v(u_current, u_fine, dt):\n",
    "    \"\"\"Returns the difference between one grid and the fine one using L-1 norm.\n",
    "    \n",
    "    Parameters\n",
    "    ----------\n",
    "    u_current : array of float\n",
    "        solution on the current grid.\n",
    "    u_finest : array of float\n",
    "        solution on the fine grid.\n",
    "    dt : float\n",
    "        time-increment on the current grid.\n",
    "    \n",
    "    Returns\n",
    "    -------\n",
    "    diffgrid : float\n",
    "        difference computed in the L-1 norm.\n",
    "    \"\"\"\n",
    "    \n",
    "    N_current = len(u_current[:,0])\n",
    "    N_fine = len(u_fine[:,0])\n",
    "   \n",
    "    grid_size_ratio = ceil(N_fine/N_current)  \n",
    "    #ceil() returns the ceiling of x as a float, the smallest integer value greater than or equal to x.\n",
    "    \n",
    "    diffgrid = dt * numpy.sum( numpy.abs(\\\n",
    "            u_current[:,0]- u_fine[::grid_size_ratio,0])) \n",
    "    \n",
    "    return diffgrid"
   ]
  },
  {
   "cell_type": "code",
   "execution_count": 16,
   "metadata": {
    "collapsed": true
   },
   "outputs": [],
   "source": [
    "def get_diffgrid_theta(u_current, u_fine, dt):\n",
    "    \"\"\"Returns the difference between one grid and the fine one using L-1 norm.\n",
    "    \n",
    "    Parameters\n",
    "    ----------\n",
    "    u_current : array of float\n",
    "        solution on the current grid.\n",
    "    u_finest : array of float\n",
    "        solution on the fine grid.\n",
    "    dt : float\n",
    "        time-increment on the current grid.\n",
    "    \n",
    "    Returns\n",
    "    -------\n",
    "    diffgrid : float\n",
    "        difference computed in the L-1 norm.\n",
    "    \"\"\"\n",
    "    \n",
    "    N_current = len(u_current[:,0])\n",
    "    N_fine = len(u_fine[:,0])\n",
    "   \n",
    "    grid_size_ratio = ceil(N_fine/N_current)  \n",
    "    #ceil() returns the ceiling of x as a float, the smallest integer value greater than or equal to x.\n",
    "    \n",
    "    diffgrid = dt * numpy.sum( numpy.abs(\\\n",
    "            u_current[:,1]- u_fine[::grid_size_ratio,1])) \n",
    "    \n",
    "    return diffgrid"
   ]
  },
  {
   "cell_type": "code",
   "execution_count": 17,
   "metadata": {
    "collapsed": true
   },
   "outputs": [],
   "source": [
    "def get_diffgrid_x(u_current, u_fine, dt):\n",
    "    \"\"\"Returns the difference between one grid and the fine one using L-1 norm.\n",
    "    \n",
    "    Parameters\n",
    "    ----------\n",
    "    u_current : array of float\n",
    "        solution on the current grid.\n",
    "    u_finest : array of float\n",
    "        solution on the fine grid.\n",
    "    dt : float\n",
    "        time-increment on the current grid.\n",
    "    \n",
    "    Returns\n",
    "    -------\n",
    "    diffgrid : float\n",
    "        difference computed in the L-1 norm.\n",
    "    \"\"\"\n",
    "    \n",
    "    N_current = len(u_current[:,0])\n",
    "    N_fine = len(u_fine[:,0])\n",
    "   \n",
    "    grid_size_ratio = ceil(N_fine/N_current)  \n",
    "    #ceil() returns the ceiling of x as a float, the smallest integer value greater than or equal to x.\n",
    "    \n",
    "    diffgrid = dt * numpy.sum( numpy.abs(\\\n",
    "            u_current[:,2]- u_fine[::grid_size_ratio,2])) \n",
    "    \n",
    "    return diffgrid"
   ]
  },
  {
   "cell_type": "code",
   "execution_count": 18,
   "metadata": {
    "collapsed": true
   },
   "outputs": [],
   "source": [
    "def get_diffgrid_y(u_current, u_fine, dt):\n",
    "    \"\"\"Returns the difference between one grid and the fine one using L-1 norm.\n",
    "    \n",
    "    Parameters\n",
    "    ----------\n",
    "    u_current : array of float\n",
    "        solution on the current grid.\n",
    "    u_finest : array of float\n",
    "        solution on the fine grid.\n",
    "    dt : float\n",
    "        time-increment on the current grid.\n",
    "    \n",
    "    Returns\n",
    "    -------\n",
    "    diffgrid : float\n",
    "        difference computed in the L-1 norm.\n",
    "    \"\"\"\n",
    "    \n",
    "    N_current = len(u_current[:,0])\n",
    "    N_fine = len(u_fine[:,0])\n",
    "   \n",
    "    grid_size_ratio = ceil(N_fine/N_current)  \n",
    "    #ceil() returns the ceiling of x as a float, the smallest integer value greater than or equal to x.\n",
    "    \n",
    "    diffgrid = dt * numpy.sum( numpy.abs(\\\n",
    "            u_current[:,3]- u_fine[::grid_size_ratio,3])) \n",
    "    \n",
    "    return diffgrid"
   ]
  },
  {
   "cell_type": "code",
   "execution_count": 19,
   "metadata": {
    "collapsed": false
   },
   "outputs": [
    {
     "name": "stdout",
     "output_type": "stream",
     "text": [
      "100\n"
     ]
    }
   ],
   "source": [
    "print(ceil(100001/1001))"
   ]
  },
  {
   "cell_type": "code",
   "execution_count": 21,
   "metadata": {
    "collapsed": false
   },
   "outputs": [],
   "source": [
    " #compute difference between one grid solution and the finest one\n",
    "diffgrid_v = numpy.empty_like(dt_values)\n",
    "diffgrid_theta = numpy.empty_like(dt_values)\n",
    "diffgrid_x = numpy.empty_like(dt_values)\n",
    "diffgrid_y = numpy.empty_like(dt_values)\n",
    "\n",
    "for i, dt in enumerate(dt_values):\n",
    "    #print('dt = {}'.format(dt))\n",
    "\n",
    "    ### call the function get_diffgrid() ###\n",
    "    diffgrid_v[i] = get_diffgrid_v(u_values[i], u_values[-1], dt)\n",
    "    diffgrid_theta[i] = get_diffgrid_theta(u_values[i], u_values[-1], dt)\n",
    "    diffgrid_x[i] = get_diffgrid_x(u_values[i], u_values[-1], dt)\n",
    "    diffgrid_y[i] = get_diffgrid_y(u_values[i], u_values[-1], dt)\n"
   ]
  },
  {
   "cell_type": "code",
   "execution_count": 22,
   "metadata": {
    "collapsed": false
   },
   "outputs": [
    {
     "name": "stdout",
     "output_type": "stream",
     "text": [
      "[ 0.1    0.05   0.01   0.005]\n",
      "[ -2.68156159e+154  -2.00000012e+000   2.15395395e-314   2.18094526e-314]\n"
     ]
    },
    {
     "data": {
      "text/plain": [
       "(None, None)"
      ]
     },
     "execution_count": 22,
     "metadata": {},
     "output_type": "execute_result"
    }
   ],
   "source": [
    "print(dt_values[:-1]), print(diffgrid[:-1])"
   ]
  },
  {
   "cell_type": "code",
   "execution_count": 25,
   "metadata": {
    "collapsed": false
   },
   "outputs": [
    {
     "data": {
      "image/png": "[encoded data removed]",
      "text/plain": [
       "<matplotlib.figure.Figure at 0x108e55fd0>"
      ]
     },
     "metadata": {},
     "output_type": "display_data"
    }
   ],
   "source": [
    "# log-log plot of the grid differences\n",
    "pyplot.figure(figsize=(6,6))\n",
    "pyplot.grid(True)\n",
    "pyplot.xlabel('$\\Delta t$', fontsize=18)\n",
    "pyplot.ylabel('$L_1$-norm of the grid differences', fontsize=18)\n",
    "pyplot.axis('equal')\n",
    "pyplot.loglog(dt_values[:-1], diffgrid_v[:-1], color='k', ls='-', lw=2, marker='o')\n",
    "pyplot.loglog(dt_values[:-1], diffgrid_theta[:-1], color='b', ls='-', lw=2, marker='o')\n",
    "pyplot.loglog(dt_values[:-1], diffgrid_x[:-1], color='g', ls='-', lw=2, marker='o')\n",
    "pyplot.loglog(dt_values[:-1], diffgrid_y[:-1], color='r', ls='-', lw=2, marker='o')\n",
    "pyplot.legend(['v','theta', 'x','y']);"
   ]
  },
  {
   "cell_type": "markdown",
   "metadata": {},
   "source": [
    "Order of Convergence"
   ]
  },
  {
   "cell_type": "code",
   "execution_count": 31,
   "metadata": {
    "collapsed": false
   },
   "outputs": [
    {
     "name": "stdout",
     "output_type": "stream",
     "text": [
      "The order of convergence is p_x = 1.014\n",
      "The order of convergence is p_y = 1.014\n",
      "The order of convergence is p_v = 1.014\n",
      "The order of convergence is p_theta = 1.014\n"
     ]
    }
   ],
   "source": [
    "r = 2\n",
    "h = 0.001\n",
    "\n",
    "dt_values2 = numpy.array([h, r*h, r**2*h])\n",
    "\n",
    "u_values2 = numpy.empty_like(dt_values2, dtype=numpy.ndarray)\n",
    "\n",
    "diffgrid2_x = numpy.empty(2)\n",
    "diffgrid2_y = numpy.empty(2)\n",
    "diffgrid2_v = numpy.empty(2)\n",
    "diffgrid2_theta = numpy.empty(2)\n",
    "\n",
    "for i, dt in enumerate(dt_values2):\n",
    "    \n",
    "    N = int(T/dt) + 1   # number of time-steps\n",
    "    \n",
    "    ### discretize the time t ###\n",
    "    t = numpy.linspace(0.0, T, N)\n",
    "    \n",
    "    # initialize the array containing the solution for each time-step\n",
    "    u = numpy.empty((N, 4))\n",
    "    u[0] = numpy.array([v0, theta0, x0, y0])\n",
    "\n",
    "    # time loop\n",
    "    for n in range(N-1):\n",
    "\n",
    "        u[n+1] = euler_step(u[n], f, dt)         ### call euler_step() ###\n",
    "    \n",
    "    # store the value of u related to one grid\n",
    "    u_values2[i] = u\n",
    "    \n",
    "\n",
    "#calculate f2 - f1\n",
    "diffgrid2_x[0] = get_diffgrid_x(u_values2[1], u_values2[0], dt_values2[1])\n",
    "diffgrid2_y[0] = get_diffgrid_y(u_values2[1], u_values2[0], dt_values2[1]) \n",
    "diffgrid2_v[0] = get_diffgrid_v(u_values2[1], u_values2[0], dt_values2[1]) \n",
    "diffgrid2_theta[0] = get_diffgrid_theta(u_values2[1], u_values2[0], dt_values2[1]) \n",
    "\n",
    "#calculate f3 - f2\n",
    "diffgrid2_x[1] = get_diffgrid_x(u_values2[2], u_values2[1], dt_values2[2])\n",
    "diffgrid2_y[1] = get_diffgrid_y(u_values2[2], u_values2[1], dt_values2[2]) \n",
    "diffgrid2_v[1] = get_diffgrid_v(u_values2[2], u_values2[1], dt_values2[2])\n",
    "diffgrid2_theta[1] = get_diffgrid_theta(u_values2[2], u_values2[1], dt_values2[2]) \n",
    "\n",
    "# calculate the order of convergence\n",
    "p_x = (log(diffgrid2_x[1]) - log(diffgrid2_x[0])) / log(r)\n",
    "p_y = (log(diffgrid2_y[1]) - log(diffgrid2_y[0])) / log(r)\n",
    "p_v = (log(diffgrid2_v[1]) - log(diffgrid2_v[0])) / log(r)\n",
    "p_theta = (log(diffgrid2_theta[1]) - log(diffgrid2_theta[0])) / log(r)\n",
    "\n",
    "print('The order of convergence is p_x = {:.3f}'.format(p_x))\n",
    "print('The order of convergence is p_y = {:.3f}'.format(p_y))\n",
    "print('The order of convergence is p_v = {:.3f}'.format(p_v))\n",
    "print('The order of convergence is p_theta = {:.3f}'.format(p_theta))"
   ]
  },
  {
   "cell_type": "code",
   "execution_count": null,
   "metadata": {
    "collapsed": true
   },
   "outputs": [],
   "source": []
  }
 ],
 "metadata": {
  "kernelspec": {
   "display_name": "Python 3",
   "language": "python",
   "name": "python3"
  },
  "language_info": {
   "codemirror_mode": {
    "name": "ipython",
    "version": 3
   },
   "file_extension": ".py",
   "mimetype": "text/x-python",
   "name": "python",
   "nbconvert_exporter": "python",
   "pygments_lexer": "ipython3",
   "version": "3.4.3"
  }
 },
 "nbformat": 4,
 "nbformat_minor": 0
}
