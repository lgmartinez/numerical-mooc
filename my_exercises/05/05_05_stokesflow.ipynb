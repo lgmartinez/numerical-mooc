{
 "cells": [
  {
   "cell_type": "code",
   "execution_count": 1,
   "metadata": {
    "collapsed": true
   },
   "outputs": [],
   "source": [
    "import numpy\n",
    "import numba\n",
    "from numba import jit"
   ]
  },
  {
   "cell_type": "markdown",
   "metadata": {},
   "source": [
    "### Parameters"
   ]
  },
  {
   "cell_type": "code",
   "execution_count": 2,
   "metadata": {
    "collapsed": true
   },
   "outputs": [],
   "source": [
    "nx = 41\n",
    "ny = 41\n",
    "\n",
    "l = 1.\n",
    "h = 1.\n",
    "\n",
    "dx = l/(nx-1)\n",
    "dy = h/(ny-1)\n",
    "\n",
    "l1_target = 1e-6\n",
    "\n",
    "relax = 0.0\n",
    "Up = 1.0"
   ]
  },
  {
   "cell_type": "markdown",
   "metadata": {},
   "source": [
    "### Initial Relaxation Values for Vorticity field"
   ]
  },
  {
   "cell_type": "code",
   "execution_count": 3,
   "metadata": {
    "collapsed": true
   },
   "outputs": [],
   "source": [
    "def get_initial_psi(numx, numy, vrelax):\n",
    "    psi_init = numpy.zeros((numy, numx))\n",
    "    psi_init[:,:] = vrelax\n",
    "    return psi_init"
   ]
  },
  {
   "cell_type": "code",
   "execution_count": 4,
   "metadata": {
    "collapsed": true
   },
   "outputs": [],
   "source": [
    "def get_initial_w(vpsi,numx, numy, delx, dely, vrelax):\n",
    "    #\n",
    "    w_init = numpy.zeros((numy, numx))\n",
    "    w_init[:-1,:] = vrelax\n",
    "    #\n",
    "    w_init[1:-1,0] = -( 4*vpsi[1:-1,1] - 0.5*vpsi[1:-1,2] ) / ( delx**2 ) #x=0\n",
    "    w_init[1:-1,-1] = - ( 4*vpsi[1:-1,-2] - 0.5*vpsi[1:-1,-3] ) / ( delx**2 ) #x=L\n",
    "    w_init[0,1:-1] = - ( 4*vpsi[1,1:-1] - 0.5*vpsi[2,1:-1] ) / ( dely**2 ) # y=0\n",
    "    w_init[-1,:] = -0.5*(8*vpsi[-2,:] - vpsi[-3,:])/(dely**2) - (3.0/dely)*(Up) #y=H\n",
    "    return w_init"
   ]
  },
  {
   "cell_type": "markdown",
   "metadata": {},
   "source": [
    "### Functions to compute vorticity and strem function"
   ]
  },
  {
   "cell_type": "code",
   "execution_count": 5,
   "metadata": {
    "collapsed": true
   },
   "outputs": [],
   "source": [
    "#@jit(nopython=True)\n",
    "@jit\n",
    "\n",
    "def get_streamfunction(vw, vpsi, numx, numy, delx, dely):   \n",
    "    \"\"\"\n",
    "    computes the streamfunction field by gauss seidel\n",
    "    \n",
    "    vpsi - streamfunction\n",
    "    vw - vorticity field\n",
    "    numx, numy - grid points\n",
    "    delx, dely - dx, dy\n",
    "    \"\"\"\n",
    "    #w = vw.copy()\n",
    "    #psi = vpsi.copy()\n",
    "    #\n",
    "    psi_new = numpy.zeros_like((vpsi))\n",
    "    #\n",
    "    for j in range(1,numy-1):\n",
    "        for i in range(1,numx-1):\n",
    "            psi_new[j,i] = 0.5*(1/(dely**2 + delx**2))*\\\n",
    "                      ( (vpsi[j,i-1] + vpsi[j,i+1])*(dely**2) +\\\n",
    "                        (vpsi[j-1,i] + vpsi[j+1,i])*(delx**2) +\\\n",
    "                         vw[j,i]*(delx**2)*(dely**2))\n",
    "        \n",
    "            #BCs:\n",
    "            #\n",
    "            psi_new[:-1,0] = 0.0 #x=0\n",
    "            psi_new[:-1,-1] = 0.0 #x=L\n",
    "            psi_new[0,1:-1] = 0.0 #y=0\n",
    "            psi_new[-1,:] = 0.0 #y=L\n",
    "            #\n",
    "    return psi_new"
   ]
  },
  {
   "cell_type": "code",
   "execution_count": 6,
   "metadata": {
    "collapsed": false
   },
   "outputs": [],
   "source": [
    "#@jit(nopython=True)\n",
    "@jit\n",
    "\n",
    "def get_vorticity(vw, vpsi, numx, numy, delx, dely):\n",
    "    \"\"\"\n",
    "    computes the vorticity field by gauss seidel\n",
    "    \n",
    "    vpsi - streamfunction\n",
    "    vw - vorticity field\n",
    "    numx, numy - grid points\n",
    "    delx, dely - dx, dy\n",
    "    \"\"\"\n",
    "    w_new = numpy.zeros_like((vw))\n",
    "    #w = vw.copy()\n",
    "    #psi = vpsi.copy()\n",
    "    #\n",
    "    for j in range(1,numy-1):\n",
    "        for i in range(1,numx-1):\n",
    "            w_new[j,i] = 0.5*(1/(dely**2 + delx**2))*\\\n",
    "                    ((vw[j,i-1] + vw[j,i+1])*(dely**2) +\\\n",
    "                     (vw[j-1,i] + vw[j+1,i])*(delx**2) )\n",
    "        \n",
    "        #BCs: \n",
    "        w_new[1:-1,0] = - ( 4*vpsi[1:-1,1] - 0.5*vpsi[1:-1,2] ) / ( delx**2 ) #x=0\n",
    "        w_new[1:-1,-1] = - ( 4*vpsi[1:-1,-2] - 0.5*vpsi[1:-1,-3] ) / ( delx**2 ) #x=L\n",
    "        w_new[0,1:-1] = - ( 4*vpsi[1,1:-1] - 0.5*vpsi[2,1:-1] ) / ( dely**2 ) # y=0\n",
    "        w_new[-1,:] = -0.5*(8*vpsi[-2,:] - vpsi[-3,:])/(dely**2) - (3.0/dely)*(Up) #y=H\n",
    "        #\n",
    "    return w_new"
   ]
  },
  {
   "cell_type": "code",
   "execution_count": 7,
   "metadata": {
    "collapsed": true
   },
   "outputs": [],
   "source": [
    "psi_initial = get_initial_psi(nx, ny, relax)"
   ]
  },
  {
   "cell_type": "code",
   "execution_count": 8,
   "metadata": {
    "collapsed": false
   },
   "outputs": [],
   "source": [
    "w_initial = get_initial_w(psi_initial,nx, ny, dx, dy, relax) "
   ]
  },
  {
   "cell_type": "markdown",
   "metadata": {},
   "source": [
    "### L1 Norm function"
   ]
  },
  {
   "cell_type": "code",
   "execution_count": 9,
   "metadata": {
    "collapsed": true
   },
   "outputs": [],
   "source": [
    "def L1norm(new, old):\n",
    "    norm = numpy.sum(numpy.abs(new-old))\n",
    "    return norm"
   ]
  },
  {
   "cell_type": "code",
   "execution_count": 10,
   "metadata": {
    "collapsed": false
   },
   "outputs": [],
   "source": [
    "#@jit(nopython=True)\n",
    "@jit\n",
    "def biharmonic_2d(w_init, psi_init, delx, dely, numx, numy, norm_target):\n",
    "    \"\"\"Computes the Biharmonic equation \n",
    "    vorticity and stream function equations are coupled\n",
    "    \n",
    "    psi_init - streamfunction initial values\n",
    "    w_init - vorticity initial values\n",
    "    delx - dx\n",
    "    dely - dy\n",
    "    \"\"\"\n",
    "    #\n",
    "    iterations = 0.0\n",
    "    w_norm = norm_target + 1\n",
    "    psi_norm = norm_target + 1\n",
    "    #\n",
    "    w = w_init.copy()\n",
    "    psi = psi_init.copy()\n",
    "    #\n",
    "    w_out = numpy.zeros((2772, numy, numx))\n",
    "    psi_out = numpy.zeros((2772, numy, numx))\n",
    "    #\n",
    "    while (w_norm > norm_target) and (psi_norm > norm_target):\n",
    "        wn = w.copy()\n",
    "        psin = psi.copy()\n",
    "        w = get_vorticity(wn, psin, numx, numy, delx, dely)\n",
    "        psi = get_streamfunction(w, psin, numx, numy, delx, dely)\n",
    "#         wn = w.copy()\n",
    "#         psin = psi.copy()\n",
    "#         psi = get_streamfunction(wn, psin, numx, numy, delx, dely)\n",
    "#         w = get_vorticity(wn, psi, numx, numy, delx, dely)\n",
    "       \n",
    "        #\n",
    "        iterations +=1\n",
    "        w_norm = L1norm(w, wn)  #need to disengage numba because this depends on numpy\n",
    "        psi_norm = L1norm(psi, psin)\n",
    "        #\n",
    "        w_out[iterations,:,:] = w.copy()\n",
    "        psi_out[iterations,:,:] = psi.copy()\n",
    "    #\n",
    "    return psi_out, w_out, iterations"
   ]
  },
  {
   "cell_type": "code",
   "execution_count": 11,
   "metadata": {
    "collapsed": false
   },
   "outputs": [
    {
     "name": "stderr",
     "output_type": "stream",
     "text": [
      "/Users/Luis/anaconda/lib/python3.4/site-packages/ipykernel/__main__.py:1: DeprecationWarning: using a non-integer number instead of an integer will result in an error in the future\n",
      "  if __name__ == '__main__':\n"
     ]
    }
   ],
   "source": [
    "PSI, W, k = biharmonic_2d(w_initial, psi_initial, dx, dy, nx, ny, l1_target)"
   ]
  },
  {
   "cell_type": "code",
   "execution_count": 12,
   "metadata": {
    "collapsed": false
   },
   "outputs": [
    {
     "data": {
      "text/plain": [
       "2771.0"
      ]
     },
     "execution_count": 12,
     "metadata": {},
     "output_type": "execute_result"
    }
   ],
   "source": [
    "k"
   ]
  },
  {
   "cell_type": "markdown",
   "metadata": {},
   "source": [
    "### Answers"
   ]
  },
  {
   "cell_type": "markdown",
   "metadata": {},
   "source": [
    "What is the maximum value of |ψ| within the cavity when the solution has relaxed to the specified criteria? (specify to 4 decimal places)\n",
    "\n"
   ]
  },
  {
   "cell_type": "code",
   "execution_count": 13,
   "metadata": {
    "collapsed": false
   },
   "outputs": [],
   "source": [
    "PSI_max = numpy.max(numpy.abs(PSI[-1,:,:]))"
   ]
  },
  {
   "cell_type": "code",
   "execution_count": 14,
   "metadata": {
    "collapsed": false
   },
   "outputs": [
    {
     "data": {
      "text/plain": [
       "0.099844725863709807"
      ]
     },
     "execution_count": 14,
     "metadata": {},
     "output_type": "execute_result"
    }
   ],
   "source": [
    "PSI_max"
   ]
  },
  {
   "cell_type": "markdown",
   "metadata": {},
   "source": [
    "What is the maximum value of |ω| within the cavity when the solution has relaxed to the specified criteria? (specify to 4 decimal places)"
   ]
  },
  {
   "cell_type": "code",
   "execution_count": 15,
   "metadata": {
    "collapsed": true
   },
   "outputs": [],
   "source": [
    "W_max = numpy.max(numpy.abs(W[-1,1:,1:-1]))"
   ]
  },
  {
   "cell_type": "code",
   "execution_count": 16,
   "metadata": {
    "collapsed": false
   },
   "outputs": [
    {
     "data": {
      "text/plain": [
       "78.192660960145787"
      ]
     },
     "execution_count": 16,
     "metadata": {},
     "output_type": "execute_result"
    }
   ],
   "source": [
    "W_max"
   ]
  },
  {
   "cell_type": "raw",
   "metadata": {},
   "source": [
    "Run\n",
    "\n",
    "numpy.round(psi[32,::8], 4)\n",
    "replacing psi with whatever the name of your ψ array is.\n",
    "\n"
   ]
  },
  {
   "cell_type": "code",
   "execution_count": 17,
   "metadata": {
    "collapsed": false
   },
   "outputs": [
    {
     "data": {
      "text/plain": [
       "array([ 0.    , -0.0575, -0.0944, -0.0944, -0.0575,  0.    ])"
      ]
     },
     "execution_count": 17,
     "metadata": {},
     "output_type": "execute_result"
    }
   ],
   "source": [
    "numpy.round(PSI[-1,32,::8],4)"
   ]
  },
  {
   "cell_type": "code",
   "execution_count": 18,
   "metadata": {
    "collapsed": false
   },
   "outputs": [
    {
     "data": {
      "text/plain": [
       "array([ 0.29304894,  0.53455437,  0.67199616,  0.74971394,  0.79735712,\n",
       "        0.82923433,  0.85203166,  0.86908597,  0.88223153,  0.89257001,\n",
       "        0.90080902,  0.90742519,  0.91275056,  0.91702198,  0.92041095,\n",
       "        0.92304237,  0.92500671,  0.92636788,  0.92716838,  0.92743258,\n",
       "        0.92716838,  0.92636788,  0.92500671,  0.92304237,  0.92041095,\n",
       "        0.91702198,  0.91275056,  0.90742519,  0.90080902,  0.89257001,\n",
       "        0.88223153,  0.86908597,  0.85203166,  0.82923433,  0.79735712,\n",
       "        0.74971394,  0.67199616,  0.53455437,  0.29304894])"
      ]
     },
     "execution_count": 18,
     "metadata": {},
     "output_type": "execute_result"
    }
   ],
   "source": [
    "(PSI[-1,-1,1:-1]-PSI[-1,-2,1:-1])/dy"
   ]
  },
  {
   "cell_type": "code",
   "execution_count": 19,
   "metadata": {
    "collapsed": false
   },
   "outputs": [
    {
     "data": {
      "text/plain": [
       "array([ 0.45908559,  0.76453228,  0.89652599,  0.94918598,  0.97126053,\n",
       "        0.98169441,  0.98734047,  0.99075045,  0.99297185,  0.99449364,\n",
       "        0.99557278,  0.99635689,  0.99693611,  0.99736792,  0.99769008,\n",
       "        0.9979279 ,  0.99809846,  0.99821318,  0.99827932,  0.99830093,\n",
       "        0.99827932,  0.99821318,  0.99809846,  0.9979279 ,  0.99769008,\n",
       "        0.99736792,  0.99693611,  0.99635689,  0.99557278,  0.99449364,\n",
       "        0.99297185,  0.99075045,  0.98734047,  0.98169441,  0.97126053,\n",
       "        0.94918598,  0.89652599,  0.76453228,  0.45908559])"
      ]
     },
     "execution_count": 19,
     "metadata": {},
     "output_type": "execute_result"
    }
   ],
   "source": [
    "(3*PSI[-1,-1,1:-1]-4*PSI[-1,-2,1:-1]+PSI[-1,-3,1:-1])/(dy*2)"
   ]
  },
  {
   "cell_type": "markdown",
   "metadata": {},
   "source": [
    "### Plot"
   ]
  },
  {
   "cell_type": "code",
   "execution_count": 20,
   "metadata": {
    "collapsed": true
   },
   "outputs": [],
   "source": [
    "from matplotlib import pyplot "
   ]
  },
  {
   "cell_type": "code",
   "execution_count": 21,
   "metadata": {
    "collapsed": true
   },
   "outputs": [],
   "source": [
    "x = numpy.linspace(0,l,nx)\n",
    "y = numpy.linspace(0,h,ny)\n",
    "mx, my = numpy.meshgrid(x,y)"
   ]
  },
  {
   "cell_type": "code",
   "execution_count": 22,
   "metadata": {
    "collapsed": false
   },
   "outputs": [
    {
     "data": {
      "image/png": "[encoded data removed]",
      "text/plain": [
       "<matplotlib.figure.Figure at 0x10fa723c8>"
      ]
     },
     "metadata": {},
     "output_type": "display_data"
    }
   ],
   "source": [
    "%matplotlib inline\n",
    "\n",
    "fig = pyplot.figure(figsize=(10,7))\n",
    "\n",
    "pyplot.contourf(mx,my,PSI[-1,:,:], cmap='viridis')\n",
    "pyplot.xticks([]), pyplot.yticks([])\n",
    "pyplot.xlabel('$Length (m)$')\n",
    "pyplot.ylabel('$Height (m)$')\n",
    "pyplot.colorbar()\n",
    "pyplot.title('Stream Function');"
   ]
  },
  {
   "cell_type": "code",
   "execution_count": 23,
   "metadata": {
    "collapsed": false
   },
   "outputs": [
    {
     "data": {
      "image/png": "[encoded data removed]",
      "text/plain": [
       "<matplotlib.figure.Figure at 0x10fa724a8>"
      ]
     },
     "metadata": {},
     "output_type": "display_data"
    }
   ],
   "source": [
    "%matplotlib inline\n",
    "\n",
    "fig = pyplot.figure(figsize=(10,7))\n",
    "\n",
    "pyplot.contourf(mx,my,W[-1,:,:], cmap='viridis')\n",
    "pyplot.xticks([]), pyplot.yticks([])\n",
    "pyplot.xlabel('$Length (m)$')\n",
    "pyplot.ylabel('$Height (m)$')\n",
    "pyplot.colorbar()\n",
    "pyplot.title('Vorticity');"
   ]
  },
  {
   "cell_type": "code",
   "execution_count": 24,
   "metadata": {
    "collapsed": false
   },
   "outputs": [],
   "source": [
    "# from matplotlib import animation\n",
    "# from JSAnimation import IPython_display\n",
    "# from JSAnimation.IPython_display import display_animation\n",
    "# from moviepy.editor import *\n",
    "\n",
    "# import pylab \n",
    "# import types"
   ]
  },
  {
   "cell_type": "code",
   "execution_count": 25,
   "metadata": {
    "collapsed": true
   },
   "outputs": [],
   "source": [
    "# ##############################################################\n",
    "\n",
    "# #Use these animation functions:\n",
    "\n",
    "# def animate(data):\n",
    "#     im = ax.contourf(mx,my,data,cmap='viridis')\n",
    "#     return im"
   ]
  },
  {
   "cell_type": "code",
   "execution_count": 26,
   "metadata": {
    "collapsed": false
   },
   "outputs": [],
   "source": [
    "# fig = pyplot.figure(figsize=(8,8))\n",
    "# ax = pyplot.axes()\n",
    "# im = ax.contourf(my, mx, PSI[0,:,:], cmap='viridis')\n",
    "\n"
   ]
  },
  {
   "cell_type": "code",
   "execution_count": 27,
   "metadata": {
    "collapsed": false
   },
   "outputs": [],
   "source": [
    "# anim = animation.FuncAnimation(fig, animate, frames=PSI[:k:25,:,:], interval=100)\n",
    "# #to display:\n",
    "# display_animation(anim, default_mode='once')"
   ]
  },
  {
   "cell_type": "code",
   "execution_count": null,
   "metadata": {
    "collapsed": true
   },
   "outputs": [],
   "source": []
  }
 ],
 "metadata": {
  "kernelspec": {
   "display_name": "Python 3",
   "language": "python",
   "name": "python3"
  },
  "language_info": {
   "codemirror_mode": {
    "name": "ipython",
    "version": 3
   },
   "file_extension": ".py",
   "mimetype": "text/x-python",
   "name": "python",
   "nbconvert_exporter": "python",
   "pygments_lexer": "ipython3",
   "version": "3.4.3"
  }
 },
 "nbformat": 4,
 "nbformat_minor": 0
}
