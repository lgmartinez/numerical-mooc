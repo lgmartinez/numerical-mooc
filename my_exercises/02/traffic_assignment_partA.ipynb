{
 "cells": [
  {
   "cell_type": "markdown",
   "metadata": {},
   "source": [
    "## This Solver uses a 1st order backward in space, forward in time numerical scheme "
   ]
  },
  {
   "cell_type": "code",
   "execution_count": 1,
   "metadata": {
    "collapsed": false
   },
   "outputs": [],
   "source": [
    "import numpy                       \n",
    "from matplotlib import pyplot                 \n",
    "%matplotlib inline\n",
    "from matplotlib import rcParams\n",
    "rcParams['font.family'] = 'serif'\n",
    "rcParams['font.size'] = 16"
   ]
  },
  {
   "cell_type": "code",
   "execution_count": 2,
   "metadata": {
    "collapsed": true
   },
   "outputs": [],
   "source": [
    "#grid\n",
    "\n",
    "L = 11. #Length of domain in kms\n",
    "nx = 51 #number of points in domain\n",
    "x = numpy.linspace(0,L,nx)"
   ]
  },
  {
   "cell_type": "code",
   "execution_count": 3,
   "metadata": {
    "collapsed": true
   },
   "outputs": [],
   "source": [
    "# Initial conditions\n",
    "rho = 10. * numpy.ones(nx)\n",
    "rho[10:20] = 50.\n",
    "#B.C\n",
    "rho_bc = 10.\n",
    "rho[0] = rho_bc"
   ]
  },
  {
   "cell_type": "code",
   "execution_count": 4,
   "metadata": {
    "collapsed": false
   },
   "outputs": [
    {
     "data": {
      "image/png": "[encoded data removed]",
      "text/plain": [
       "<matplotlib.figure.Figure at 0x1081bce48>"
      ]
     },
     "metadata": {},
     "output_type": "display_data"
    }
   ],
   "source": [
    "# Look at initial conditions:\n",
    "pyplot.plot(x, rho, color='b', ls='--', lw=3)\n",
    "pyplot.ylim(-0.5,55)\n",
    "pyplot.xlim(0,11);"
   ]
  },
  {
   "cell_type": "markdown",
   "metadata": {},
   "source": [
    "## Solutions"
   ]
  },
  {
   "cell_type": "markdown",
   "metadata": {},
   "source": [
    "### Define Parameters"
   ]
  },
  {
   "cell_type": "raw",
   "metadata": {
    "collapsed": true
   },
   "source": [
    "#### Parameters\n",
    "\n",
    "vmax = 80. #km/hr \n",
    "rho_max = 250 #cars/km \n",
    "dt = 0.001 #hrs \n",
    "dx = 11./51. #km \n"
   ]
  },
  {
   "cell_type": "code",
   "execution_count": 5,
   "metadata": {
    "collapsed": true
   },
   "outputs": [],
   "source": [
    "vmax = 80.*1000./60.  # maximum velocity in meters/minute\n",
    "rho_max = 250./1000.  # maximum density in cars/minute\n",
    "dt = 0.001*60.       # time step in minutes\n",
    "dx = (11./51.)*1000. #spacing in in meters"
   ]
  },
  {
   "cell_type": "markdown",
   "metadata": {},
   "source": [
    "### Question 1: Enter the *minimum* velocity at time t = 0 in meters per second. Round to 2 decimal places"
   ]
  },
  {
   "cell_type": "code",
   "execution_count": 6,
   "metadata": {
    "collapsed": true
   },
   "outputs": [],
   "source": [
    "# @ time t=0, we'll use the initial conditions to find the minimum velocity:\n",
    "\n",
    "rho_min_t0 = numpy.min(rho)\n",
    "rho_max_t0 = numpy.max(rho)"
   ]
  },
  {
   "cell_type": "code",
   "execution_count": 7,
   "metadata": {
    "collapsed": false
   },
   "outputs": [],
   "source": [
    "vmin_t0 = (vmax/60.)*(1-rho_max_t0/(rho_max*1000.))"
   ]
  },
  {
   "cell_type": "code",
   "execution_count": 8,
   "metadata": {
    "collapsed": false
   },
   "outputs": [
    {
     "name": "stdout",
     "output_type": "stream",
     "text": [
      "the minimum velocity at t=0 is:  17.78 [m/s]\n"
     ]
    }
   ],
   "source": [
    "print('the minimum velocity at t=0 is: ', numpy.round(vmin_t0,2), '[m/s]')"
   ]
  },
  {
   "cell_type": "markdown",
   "metadata": {},
   "source": [
    "### Question 2: Enter the average velocity at time t = 3 minutes in meters per second. Round to 2 decimal places"
   ]
  },
  {
   "cell_type": "code",
   "execution_count": 9,
   "metadata": {
    "collapsed": true
   },
   "outputs": [],
   "source": [
    "T_terminal = 3.0\n",
    "nt = int(T_terminal/dt)    \n",
    "\n",
    "CFL = (vmax*dt)/dx"
   ]
  },
  {
   "cell_type": "code",
   "execution_count": 10,
   "metadata": {
    "collapsed": true
   },
   "outputs": [],
   "source": [
    "# Initial conditions in cars/meter\n",
    "rho = (10./1000.) * numpy.ones(nx)\n",
    "rho[10:20] = 50./1000.\n",
    "#B.C in cars/meter\n",
    "rho_bc = 10./1000. \n",
    "rho[0] = rho_bc"
   ]
  },
  {
   "cell_type": "code",
   "execution_count": 11,
   "metadata": {
    "collapsed": true
   },
   "outputs": [],
   "source": [
    "#These results for density are given in cars/meter\n",
    "#\n",
    "for n in range(1,nt+1):\n",
    "    #updates the values of density\n",
    "    rho_n = rho.copy()\n",
    "    #\n",
    "    for i in range(1,nx):\n",
    "        rho_n[0] = rho_bc\n",
    "        rho[i] = rho_n[i] - CFL * ( rho_n[i]*(1-rho_n[i]/rho_max) - rho_n[i-1]*(1-rho_n[i-1]/rho_max)  )"
   ]
  },
  {
   "cell_type": "code",
   "execution_count": 12,
   "metadata": {
    "collapsed": false
   },
   "outputs": [
    {
     "data": {
      "text/plain": [
       "(51,)"
      ]
     },
     "execution_count": 12,
     "metadata": {},
     "output_type": "execute_result"
    }
   ],
   "source": [
    "numpy.shape(rho)"
   ]
  },
  {
   "cell_type": "code",
   "execution_count": 13,
   "metadata": {
    "collapsed": false
   },
   "outputs": [
    {
     "data": {
      "image/png": "[encoded data removed]",
      "text/plain": [
       "<matplotlib.figure.Figure at 0x1084240f0>"
      ]
     },
     "metadata": {},
     "output_type": "display_data"
    }
   ],
   "source": [
    "# Look at the results:\n",
    "\n",
    "pyplot.plot(x, rho*1000, color='b', ls='--', lw=3)\n",
    "pyplot.title('Density of Cars by X Location at 3rd Minute')\n",
    "pyplot.xlabel('km')\n",
    "pyplot.ylabel('Cars/Km')\n",
    "pyplot.ylim(0,55)\n",
    "pyplot.xlim(0,11);"
   ]
  },
  {
   "cell_type": "code",
   "execution_count": 14,
   "metadata": {
    "collapsed": false
   },
   "outputs": [],
   "source": [
    "# To find average velocty, solve for velocity at each x location and average:\n",
    "v = numpy.zeros_like(rho, dtype=float)\n",
    "#\n",
    "#make sure to convert units to get m/s\n",
    "vmax = 80.*(1000./3600.) #in meters/sec"
   ]
  },
  {
   "cell_type": "code",
   "execution_count": 15,
   "metadata": {
    "collapsed": false
   },
   "outputs": [],
   "source": [
    "for i in range(nx):\n",
    "    v[i] = (vmax)*(1-rho[i]/rho_max)\n",
    "#    \n",
    "v_avg = numpy.average(v)"
   ]
  },
  {
   "cell_type": "code",
   "execution_count": 16,
   "metadata": {
    "collapsed": false
   },
   "outputs": [
    {
     "name": "stdout",
     "output_type": "stream",
     "text": [
      "The average velocity after 3 minutes is  20.64 [m/s]\n"
     ]
    }
   ],
   "source": [
    "print('The average velocity after 3 minutes is ', numpy.round(v_avg,2), '[m/s]')"
   ]
  },
  {
   "cell_type": "markdown",
   "metadata": {},
   "source": [
    "### Question 3: Enter the *minimum* velocity at time t = 6 minutes in meters per second. Round to 2 decimal places"
   ]
  },
  {
   "cell_type": "code",
   "execution_count": 17,
   "metadata": {
    "collapsed": true
   },
   "outputs": [],
   "source": [
    "# Initial conditions in cars/meter\n",
    "rho = (10./1000.) * numpy.ones(nx)\n",
    "rho[10:20] = 50./1000.\n",
    "#B.C in cars per minute\n",
    "rho_bc = 10./1000.  #cars/meter\n",
    "rho[0] = rho_bc"
   ]
  },
  {
   "cell_type": "code",
   "execution_count": 18,
   "metadata": {
    "collapsed": true
   },
   "outputs": [],
   "source": [
    "T_terminal = 6.0  #minutes\n",
    "dt = 0.001*60     #dt in minutes\n",
    "\n",
    "nt = int(T_terminal/dt)\n",
    "\n",
    "vmax = 80.*(1000./60.) #in meters/min\n",
    "rho_max = 250./1000. #cars per meter\n",
    "dx = (11./51.) * 1000. #dx in meters\n",
    "\n",
    "CFL = (vmax*dt)/dx"
   ]
  },
  {
   "cell_type": "code",
   "execution_count": 19,
   "metadata": {
    "collapsed": false
   },
   "outputs": [
    {
     "name": "stdout",
     "output_type": "stream",
     "text": [
      "100\n"
     ]
    }
   ],
   "source": [
    "print(nt)"
   ]
  },
  {
   "cell_type": "code",
   "execution_count": 20,
   "metadata": {
    "collapsed": true
   },
   "outputs": [],
   "source": [
    "for n in range(1,nt+1):\n",
    "    #updates the values of density\n",
    "    rho_n = rho.copy()\n",
    "    #\n",
    "    for i in range(1,nx):\n",
    "        rho_n[0] = rho_bc\n",
    "        rho[i] = rho_n[i] - CFL * ( rho_n[i]*(1-rho_n[i]/rho_max) - rho_n[i-1]*(1-rho_n[i-1]/rho_max)  )"
   ]
  },
  {
   "cell_type": "code",
   "execution_count": 21,
   "metadata": {
    "collapsed": false
   },
   "outputs": [
    {
     "data": {
      "image/png": "[encoded data removed]",
      "text/plain": [
       "<matplotlib.figure.Figure at 0x108464cc0>"
      ]
     },
     "metadata": {},
     "output_type": "display_data"
    }
   ],
   "source": [
    "pyplot.plot(x, rho*1000, color='b', ls='--', lw=3)\n",
    "pyplot.title('Density of Cars by X Location at 6th Minute')\n",
    "pyplot.xlabel('km')\n",
    "pyplot.ylabel('Cars/Km')\n",
    "pyplot.ylim(0,55)\n",
    "pyplot.xlim(0,11);"
   ]
  },
  {
   "cell_type": "code",
   "execution_count": 22,
   "metadata": {
    "collapsed": true
   },
   "outputs": [],
   "source": [
    "vmax = 80.*(1000./3600) #in meters/sec\n",
    "for i in range(nx):\n",
    "    v[i] = (vmax)*(1-rho[i]/rho_max)"
   ]
  },
  {
   "cell_type": "code",
   "execution_count": 23,
   "metadata": {
    "collapsed": false,
    "scrolled": true
   },
   "outputs": [
    {
     "data": {
      "image/png": "[encoded data removed]",
      "text/plain": [
       "<matplotlib.figure.Figure at 0x1085c42b0>"
      ]
     },
     "metadata": {},
     "output_type": "display_data"
    }
   ],
   "source": [
    "pyplot.plot(x, v, color='b', ls='--', lw=3)\n",
    "pyplot.title('Velocity Profile at 6th Minute')\n",
    "pyplot.xlabel('km')\n",
    "pyplot.ylabel('m/s');"
   ]
  },
  {
   "cell_type": "code",
   "execution_count": 24,
   "metadata": {
    "collapsed": false
   },
   "outputs": [],
   "source": [
    "v_min_t6 = numpy.min(v)"
   ]
  },
  {
   "cell_type": "code",
   "execution_count": 25,
   "metadata": {
    "collapsed": false
   },
   "outputs": [
    {
     "name": "stdout",
     "output_type": "stream",
     "text": [
      "The minimum velocity after 3 minutes is  18.8 [m/s]\n"
     ]
    }
   ],
   "source": [
    "print('The minimum velocity after 3 minutes is ', numpy.round(v_min_t6,2), '[m/s]')"
   ]
  }
 ],
 "metadata": {
  "kernelspec": {
   "display_name": "Python 3",
   "language": "python",
   "name": "python3"
  },
  "language_info": {
   "codemirror_mode": {
    "name": "ipython",
    "version": 3
   },
   "file_extension": ".py",
   "mimetype": "text/x-python",
   "name": "python",
   "nbconvert_exporter": "python",
   "pygments_lexer": "ipython3",
   "version": "3.4.3"
  }
 },
 "nbformat": 4,
 "nbformat_minor": 0
}
