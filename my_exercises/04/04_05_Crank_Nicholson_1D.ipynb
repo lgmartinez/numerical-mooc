{
 "cells": [
  {
   "cell_type": "markdown",
   "metadata": {},
   "source": [
    "This method is second order accurate in time and space. The second order accuracy in time is achieved by taking the average between solutions at $t^{n}$ and $t^{n+1}$ (centered scheme)"
   ]
  },
  {
   "cell_type": "markdown",
   "metadata": {},
   "source": [
    "\\begin{equation}\n",
    "\\frac{\\partial T}{\\partial t} = \\alpha \\frac{\\partial^2T}{\\partial x^2}.\n",
    "\\end{equation}\n",
    "\n",
    "In this case, the Crank-Nicolson scheme leads to the following discretized equation:\n",
    "\n",
    "\\begin{eqnarray}\n",
    "\\frac{T^{n+1}_i - T^n_i}{\\Delta t} = & \\nonumber \\\\\n",
    "\\alpha \\cdot \\frac{1}{2} &\\left( \n",
    "\\frac{T^{n+1}_{i+1} - 2T^{n+1}_i + T^{n+1}_{i-1}}{\\Delta x^2} \n",
    "+ \\frac{T^n_{i+1}-2T^n_i + T^n_{i-1}}{\\Delta x^2}\n",
    "\\right)\n",
    "\\end{eqnarray}"
   ]
  },
  {
   "cell_type": "markdown",
   "metadata": {},
   "source": [
    "Rearraning terms so that everything that we don't know is on the left side and what we do know on the right side, we get\n",
    "\n",
    "\\begin{eqnarray} \n",
    "-T^{n+1}_{i-1} + 2\\left(\\frac{\\Delta x^2}{\\alpha\\Delta t}+1\\right)T^{n+1}_i - T^{n+1}_{i+1} = & \\nonumber\\\\\n",
    "T^{n}_{i-1} + & 2\\left(\\frac{\\Delta x^2}{\\alpha\\Delta t}-1\\right)T^{n}_i + T^{n}_{i+1}\n",
    "\\end{eqnarray}"
   ]
  },
  {
   "cell_type": "code",
   "execution_count": null,
   "metadata": {
    "collapsed": true
   },
   "outputs": [],
   "source": []
  }
 ],
 "metadata": {
  "kernelspec": {
   "display_name": "Python 3",
   "language": "python",
   "name": "python3"
  },
  "language_info": {
   "codemirror_mode": {
    "name": "ipython",
    "version": 3
   },
   "file_extension": ".py",
   "mimetype": "text/x-python",
   "name": "python",
   "nbconvert_exporter": "python",
   "pygments_lexer": "ipython3",
   "version": "3.4.3"
  }
 },
 "nbformat": 4,
 "nbformat_minor": 0
}
