{
 "cells": [
  {
   "cell_type": "markdown",
   "metadata": {},
   "source": [
    "## Import Libaries"
   ]
  },
  {
   "cell_type": "code",
   "execution_count": 1,
   "metadata": {
    "collapsed": true
   },
   "outputs": [],
   "source": [
    "from math import sin, cos, log, ceil\n",
    "import numpy\n",
    "import math\n",
    "from matplotlib import pyplot\n",
    "%matplotlib inline\n",
    "from matplotlib import rcParams\n",
    "rcParams['font.family'] = 'serif'\n",
    "rcParams['font.size'] = 16"
   ]
  },
  {
   "cell_type": "markdown",
   "metadata": {},
   "source": [
    "Suppose you wanted to participate in a paper-airplane competition, and you want to use what you know about the phugoid model to improve your chances. For a given value of L/D that you can obtain in your design, you want to know what is the best initial velocity and launch angle to fly the longest distance from a given height.\n",
    "\n",
    "Using the phugoid model, write a new code to analyze the flight of a paper airplane, with the following conditions:\n",
    "Assume L/D of 5.0 (a value close to measurements in Feng et al. 2009)\n",
    "\n",
    "For the trim velocity, let's take an average value of 4.9 m/s.\n",
    "Find a combination of launch angle and velocity that gives the best distance.\n",
    "Think about how you will know when the flight needs to stop ... this will influence how you organize the code.\n",
    "How can you check if your answer is realistic?"
   ]
  },
  {
   "cell_type": "markdown",
   "metadata": {},
   "source": [
    "## Method"
   ]
  },
  {
   "cell_type": "markdown",
   "metadata": {},
   "source": [
    "Method: In this Notebook, I used different angles to examine the flight path. Each angle has a corresponding initial velocity associated with that angle. For example, for a launch angle of theta_init = 10 degrees, the initial velocity is taken as v_0 = v_trim/cos(theta_init). Additionally, the Terminal flight time is taken as 15 seconds. An interesting observation is that with a shorter flight time, a negative launch angle gives a longer travel distance. \n",
    "\n",
    "A separate notebook will account for different launch angles but it will maintain a constant launch velocity to isolate the effect of launch angle. "
   ]
  },
  {
   "cell_type": "code",
   "execution_count": 2,
   "metadata": {
    "collapsed": true
   },
   "outputs": [],
   "source": [
    "# model parameters:\n",
    "g = 9.8      # gravity in m s^{-2}\n",
    "v_t = 4.9   # trim velocity in m s^{-1}   \n",
    "C_D = 1/5  # drag coefficient --- or D/L if C_L=1\n",
    "C_L = 1   # for convenience, use C_L = 1\n",
    "\n",
    "### set initial conditions ###\n",
    "\n",
    "x0 = 0     # horizotal position is arbitrary\n",
    "y0 =2.0  # initial altitude\n",
    "#----------------------------------------------\n",
    "\n",
    "#set angle and determine v0 from angle and trim velocity\n",
    "\n",
    "#trial 1\n",
    "theta0_1 = 0 # initial angle of trajectory\n",
    "v0_1 = v_t     # start at the trim velocity (or add a delta)\n",
    "\n",
    "#trial2\n",
    "theta0_2 = math.pi/6 #30 deg\n",
    "v0_2 = v_t/(math.cos(math.pi/6))\n",
    "\n",
    "#trial3\n",
    "theta0_3 = math.pi/4 #45 deg\n",
    "v0_3 = v_t/(math.cos(math.pi/4))\n",
    "\n",
    "#trial4\n",
    "theta0_4 =  (20.*math.pi)/180. #20 deg\n",
    "v0_4 = v_t/(math.cos(theta0_4))\n",
    "\n",
    "#trial5\n",
    "theta0_5 =  -(10.*math.pi)/180. #-10 deg\n",
    "v0_5 = v_t/(math.cos(theta0_5))\n",
    "\n",
    "#trial6\n",
    "theta0_6 =  -(20.*math.pi)/180. #-20 deg\n",
    "v0_6 = v_t/(math.cos(theta0_6))\n",
    "\n",
    "#trial6\n",
    "theta0_7 =  -(25.*math.pi)/180. #-20 deg\n",
    "v0_7 = v_t/(math.cos(theta0_7))"
   ]
  },
  {
   "cell_type": "code",
   "execution_count": 3,
   "metadata": {
    "collapsed": true
   },
   "outputs": [],
   "source": [
    "def f(u):\n",
    "    \"\"\"Returns the right-hand side of the phugoid system of equations.\n",
    "    \n",
    "    Parameters\n",
    "    ----------\n",
    "    u : array of float\n",
    "        array containing the solution at time n.\n",
    "        \n",
    "    Returns\n",
    "    -------\n",
    "    dudt : array of float\n",
    "        array containing the RHS given u.\n",
    "    \"\"\"\n",
    "    \n",
    "    v = u[0]\n",
    "    theta = u[1]\n",
    "    x = u[2]\n",
    "    y = u[3]\n",
    "    return numpy.array([-g*sin(theta) - C_D/C_L*g/v_t**2*v**2,\n",
    "                      -g*cos(theta)/v + g/v_t**2*v,\n",
    "                      v*cos(theta),\n",
    "                      v*sin(theta)])"
   ]
  },
  {
   "cell_type": "code",
   "execution_count": 4,
   "metadata": {
    "collapsed": true
   },
   "outputs": [],
   "source": [
    "def euler_step(u, f, dt):\n",
    "    \"\"\"Returns the solution at the next time-step using Euler's method.\n",
    "    \n",
    "    Parameters\n",
    "    ----------\n",
    "    u : array of float\n",
    "        solution at the previous time-step.\n",
    "    f : function\n",
    "        function to compute the right hand-side of the system of equation.\n",
    "    dt : float\n",
    "        time-increment.\n",
    "    \n",
    "    Returns\n",
    "    -------\n",
    "    u_n_plus_1 : array of float\n",
    "        approximate solution at the next time step.\n",
    "    \"\"\"\n",
    "    \n",
    "    return u + dt * f(u)"
   ]
  },
  {
   "cell_type": "code",
   "execution_count": 5,
   "metadata": {
    "collapsed": false
   },
   "outputs": [],
   "source": [
    "T = 15                              # final time in seconds\n",
    "dt = 0.01                           # time increment\n",
    "N = int(T/dt) + 1                  # number of time-steps\n",
    "t = numpy.linspace(0, T, N)      # time discretization\n",
    "\n",
    "TOL = 0.0001\n",
    "\n",
    "# initialize the array containing the solution for each time-step\n",
    "u_1 = numpy.empty((N, 4))\n",
    "u_2 = numpy.empty((N, 4))\n",
    "u_3 = numpy.empty((N, 4))\n",
    "u_4 = numpy.empty((N, 4))\n",
    "u_5 = numpy.empty((N, 4))\n",
    "u_6 = numpy.empty((N, 4))\n",
    "u_7 = numpy.empty((N, 4))\n",
    "\n",
    "u_1[0] = numpy.array([v0_1, theta0_1, x0, y0])\n",
    "u_2[0] = numpy.array([v0_2, theta0_2, x0, y0])\n",
    "u_3[0] = numpy.array([v0_3, theta0_3, x0, y0])\n",
    "u_4[0] = numpy.array([v0_4, theta0_4, x0, y0])\n",
    "u_5[0] = numpy.array([v0_5, theta0_5, x0, y0])\n",
    "u_6[0] = numpy.array([v0_6, theta0_6, x0, y0])\n",
    "u_7[0] = numpy.array([v0_7, theta0_7, x0, y0])\n",
    "\n",
    "# time loop - Euler method\n",
    "for n in range(N-1):\n",
    "    \n",
    "    u_1[n+1] = euler_step(u_1[n], f, dt)\n",
    "    u_2[n+1] = euler_step(u_2[n], f, dt)\n",
    "    u_3[n+1] = euler_step(u_3[n], f, dt)\n",
    "    u_4[n+1] = euler_step(u_4[n], f, dt)\n",
    "    u_5[n+1] = euler_step(u_5[n], f, dt)\n",
    "    u_6[n+1] = euler_step(u_6[n], f, dt)\n",
    "    u_7[n+1] = euler_step(u_7[n], f, dt)\n",
    "    \n",
    "    "
   ]
  },
  {
   "cell_type": "code",
   "execution_count": 6,
   "metadata": {
    "collapsed": true
   },
   "outputs": [],
   "source": [
    "#Get Trajectories\n",
    "\n",
    "# get the glider's position with respect to the time\n",
    "x_1 = u_1[:,2]\n",
    "y_1 = u_1[:,3]\n",
    "\n",
    "x_2 = u_2[:,2]\n",
    "y_2 = u_2[:,3]\n",
    "\n",
    "x_3 = u_3[:,2]\n",
    "y_3 = u_3[:,3]\n",
    "\n",
    "x_4 = u_4[:,2]\n",
    "y_4 = u_4[:,3]\n",
    "\n",
    "x_5 = u_5[:,2]\n",
    "y_5 = u_5[:,3]\n",
    "\n",
    "x_6 = u_6[:,2]\n",
    "y_6 = u_6[:,3]\n",
    "\n",
    "x_7 = u_7[:,2]\n",
    "y_7 = u_7[:,3]\n"
   ]
  },
  {
   "cell_type": "code",
   "execution_count": 7,
   "metadata": {
    "collapsed": false
   },
   "outputs": [
    {
     "data": {
      "image/png": "[encoded data removed]",
      "text/plain": [
       "<matplotlib.figure.Figure at 0x108ae9278>"
      ]
     },
     "metadata": {},
     "output_type": "display_data"
    }
   ],
   "source": [
    "# visualization of the path\n",
    "pyplot.figure(figsize=(8,6))\n",
    "pyplot.grid(True)\n",
    "pyplot.xlabel(r'x', fontsize=18)\n",
    "pyplot.ylabel(r'y', fontsize=18)\n",
    "pyplot.xlim(0,20)\n",
    "pyplot.ylim(0,5)\n",
    "pyplot.title('Paper Plane Trajectory, flight time = %.2f' % T, fontsize=18)\n",
    "pyplot.plot(x_1,y_1, color='k', lw=2)\n",
    "pyplot.plot(x_2,y_2, color='r', lw=2)\n",
    "pyplot.plot(x_3,y_3, color='b', lw=2)\n",
    "pyplot.plot(x_4,y_4, color='g', lw=2)\n",
    "pyplot.plot(x_5,y_5, color='m', lw=2, linestyle = ':')\n",
    "pyplot.plot(x_6,y_6, color='b', lw=2, linestyle = ':')\n",
    "pyplot.plot(x_7,y_7, color='k', lw=2, linestyle = '-')\n",
    "pyplot.legend(['trial1=0 deg','trial2=30 deg', 'trial3=45 deg', 'trial4=20 deg', 'trial5=-10 deg', 'trial6=-20 deg','trial7=-25 deg']);"
   ]
  },
  {
   "cell_type": "markdown",
   "metadata": {},
   "source": [
    "### Check where the y = 0 values are:"
   ]
  },
  {
   "cell_type": "code",
   "execution_count": 8,
   "metadata": {
    "collapsed": false
   },
   "outputs": [
    {
     "data": {
      "text/plain": [
       "(array([ 219,  220,  221, ..., 1498, 1499, 1500]),)"
      ]
     },
     "execution_count": 8,
     "metadata": {},
     "output_type": "execute_result"
    }
   ],
   "source": [
    "numpy.where(u_1[:,3] <= TOL)"
   ]
  },
  {
   "cell_type": "code",
   "execution_count": 9,
   "metadata": {
    "collapsed": false
   },
   "outputs": [
    {
     "data": {
      "text/plain": [
       "(array([ 299,  300,  301, ..., 1498, 1499, 1500]),)"
      ]
     },
     "execution_count": 9,
     "metadata": {},
     "output_type": "execute_result"
    }
   ],
   "source": [
    "numpy.where(u_2[:,3] <= TOL)"
   ]
  },
  {
   "cell_type": "code",
   "execution_count": 10,
   "metadata": {
    "collapsed": false
   },
   "outputs": [
    {
     "data": {
      "text/plain": [
       "(array([ 339,  340,  341, ..., 1498, 1499, 1500]),)"
      ]
     },
     "execution_count": 10,
     "metadata": {},
     "output_type": "execute_result"
    }
   ],
   "source": [
    "numpy.where(u_3[:,3] <= TOL)"
   ]
  },
  {
   "cell_type": "code",
   "execution_count": 11,
   "metadata": {
    "collapsed": false
   },
   "outputs": [
    {
     "data": {
      "text/plain": [
       "(array([ 264,  265,  266, ..., 1498, 1499, 1500]),)"
      ]
     },
     "execution_count": 11,
     "metadata": {},
     "output_type": "execute_result"
    }
   ],
   "source": [
    "numpy.where(u_4[:,3] <= TOL)"
   ]
  },
  {
   "cell_type": "code",
   "execution_count": 12,
   "metadata": {
    "collapsed": false
   },
   "outputs": [
    {
     "data": {
      "text/plain": [
       "(array([ 216,  217,  218, ..., 1498, 1499, 1500]),)"
      ]
     },
     "execution_count": 12,
     "metadata": {},
     "output_type": "execute_result"
    }
   ],
   "source": [
    "numpy.where(u_5[:,3] <= TOL)"
   ]
  },
  {
   "cell_type": "code",
   "execution_count": 13,
   "metadata": {
    "collapsed": false
   },
   "outputs": [
    {
     "data": {
      "text/plain": [
       "(array([ 216,  217,  218, ..., 1498, 1499, 1500]),)"
      ]
     },
     "execution_count": 13,
     "metadata": {},
     "output_type": "execute_result"
    }
   ],
   "source": [
    "numpy.where(u_6[:,3] <= TOL)"
   ]
  },
  {
   "cell_type": "code",
   "execution_count": 14,
   "metadata": {
    "collapsed": false
   },
   "outputs": [
    {
     "data": {
      "text/plain": [
       "(array([ 216,  217,  218, ..., 1498, 1499, 1500]),)"
      ]
     },
     "execution_count": 14,
     "metadata": {},
     "output_type": "execute_result"
    }
   ],
   "source": [
    "numpy.where(u_7[:,3] <= TOL)"
   ]
  },
  {
   "cell_type": "code",
   "execution_count": 15,
   "metadata": {
    "collapsed": false
   },
   "outputs": [
    {
     "name": "stdout",
     "output_type": "stream",
     "text": [
      "0.00385737416197 0.00559423345565 0.00444563571625 0.109041274848 0.00471519895091 0.00451690883239 0.0135343728478\n"
     ]
    }
   ],
   "source": [
    "#check elevation according to x distance (note! we don't want negative y values because zero is the floor)\n",
    "\n",
    "print(u_1[218,3], u_2[298,3], u_3[338,3], u_4[215,3], u_5[215,3], u_6[215,3], u_7[215,3])"
   ]
  },
  {
   "cell_type": "markdown",
   "metadata": {},
   "source": [
    "## Maximum Distance"
   ]
  },
  {
   "cell_type": "code",
   "execution_count": 16,
   "metadata": {
    "collapsed": false
   },
   "outputs": [
    {
     "name": "stdout",
     "output_type": "stream",
     "text": [
      "d_max t1 =  10.1720666677  d_max t2 =  12.4742786257  d_max t3 =  11.9943196771\n"
     ]
    }
   ],
   "source": [
    "print('d_max t1 = ', u_1[218,2],' d_max t2 = ', u_2[298,2],' d_max t3 = ', u_3[338,2])"
   ]
  },
  {
   "cell_type": "code",
   "execution_count": 17,
   "metadata": {
    "collapsed": false
   },
   "outputs": [
    {
     "name": "stdout",
     "output_type": "stream",
     "text": [
      "d_max t4 =  9.35503044873  d_max t5 =  10.2185034772  d_max t6 =  10.3506954961\n"
     ]
    }
   ],
   "source": [
    "print('d_max t4 = ', u_4[215,2],' d_max t5 = ', u_5[215,2], ' d_max t6 = ', u_6[215,2])"
   ]
  },
  {
   "cell_type": "code",
   "execution_count": 18,
   "metadata": {
    "collapsed": false
   },
   "outputs": [
    {
     "name": "stdout",
     "output_type": "stream",
     "text": [
      " d_max t7 =  10.3946349481\n"
     ]
    }
   ],
   "source": [
    "print(' d_max t7 = ', u_7[215,2])"
   ]
  },
  {
   "cell_type": "markdown",
   "metadata": {},
   "source": [
    "## Conclusion"
   ]
  },
  {
   "cell_type": "markdown",
   "metadata": {},
   "source": [
    "Launching at a positive angle of 30 degrees with respect to the horizontal at an initial velocity v_0 = v_trim/cos(30). The terminal time was taken to be 3 seconds. I also ran it for 4 seconds and the launch angle of -15 also gave the best result. This challenge uses different launch angles corresponding to the launch angle and the trim velocity. Another notebook will use different initial conditions to examine the impact of launch angle (using constant velocities)."
   ]
  }
 ],
 "metadata": {
  "kernelspec": {
   "display_name": "Python 3",
   "language": "python",
   "name": "python3"
  },
  "language_info": {
   "codemirror_mode": {
    "name": "ipython",
    "version": 3
   },
   "file_extension": ".py",
   "mimetype": "text/x-python",
   "name": "python",
   "nbconvert_exporter": "python",
   "pygments_lexer": "ipython3",
   "version": "3.4.3"
  }
 },
 "nbformat": 4,
 "nbformat_minor": 0
}
